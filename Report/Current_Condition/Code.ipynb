{
 "cells": [
  {
   "cell_type": "code",
   "execution_count": 1,
   "id": "027b2f55-b9be-45aa-bc7e-677ceabd130c",
   "metadata": {},
   "outputs": [],
   "source": [
    "def Adj(Value,Type):\n",
    "    if Type==1:\n",
    "        if np.sign(Value)==-1:\n",
    "            return(\"negative\")\n",
    "        if np.sign(Value)==1:\n",
    "            return(\"positive\")\n",
    "        else:\n",
    "            return('unchanged')\n",
    "    if Type==2:\n",
    "        if np.sign(Value)==-1:\n",
    "            return(\"down\")\n",
    "        if np.sign(Value)==1:\n",
    "            return(\"up\")\n",
    "        else:\n",
    "            return('unchanged at')\n",
    "    if Type==3:\n",
    "        if np.sign(Value)==-1:\n",
    "            return(\"less\")\n",
    "        if np.sign(Value)==1:\n",
    "            return(\"more\")\n",
    "        else:\n",
    "            return('unchanged at')\n",
    "        \n",
    "    if Type==4:\n",
    "        if np.sign(Value)==-1:\n",
    "            return(\"decrease\")\n",
    "        if np.sign(Value)==1:\n",
    "            return(\"increase\")\n",
    "        else:\n",
    "            return('unchanged')\n",
    "\n",
    "def Comma(Value):\n",
    "    return(locale.format_string(\"%d\", Value,-2))"
   ]
  },
  {
   "cell_type": "code",
   "execution_count": 2,
   "id": "b1583ccf-02e5-467f-b6d7-aa65345805dc",
   "metadata": {},
   "outputs": [],
   "source": [
    "import os\n",
    "import pandas as pd\n",
    "import numpy as np\n",
    "import locale\n",
    "locale.setlocale(locale.LC_NUMERIC, 'en_US')\n",
    "\n",
    "class HousingMarketCurrent:\n",
    "    def __init__(self, month, year, TP1,TP2):\n",
    "        self.year=year\n",
    "        self.month=month\n",
    "        self.TP1=TP1\n",
    "        self.TP2=TP2\n",
    "\n",
    "    def P1(self):\n",
    "        S1 = \"In \" + Month+\", housesales in Illinois sales experienced a \"+Adj(TP1[\"Sales_AGrowthIL\"][3],1)+\" annual change, the median prices experienced a \"+Adj(TP1[\"Price_AGrowthIL\"][3],1)+\" annual change. The housesales in Chicago PMSA experienced a \" +Adj(TP1[\"Sales_AGrowthCH\"][3],1)+\" annual change, the median prices experienced a \"+Adj(TP1[\"Price_AGrowthCH\"][3],1)+\" annual change.\"\n",
    "        S2 =  str(Comma(np.around(TP1[\"Sales_IL_sells\"][3],-2)))+ \" houses were sold in Illinois, changing by \"+ str(TP1[\"Sales_AGrowthIL\"][3].round(1))+\"% from a year ago and \"+ str(TP1[\"Sales_MGrowthIL\"][3].round(1)) +\"% from a month ago.\"\n",
    "        S3 = \" In the Chicago PMSA, \" +str(Comma(np.around(TP1[\"Sales_CH_sells\"][3],-2)))+ \" houses were sold, changing by \" + str(TP1[\"Sales_AGrowthCH\"][3].round(1))+ \"% from a year ago and \" + str(TP1[\"Sales_MGrowthCH\"][3].round(1)) +\"% from a month ago.\"\n",
    "        S4 = \"The median price was $\" +  str(Comma(TP1[\"Price_IL_price\"][3]))+ \" in Illinois, changing by \" + str(TP1[\"Price_AGrowthIL\"][3].round(1))+\" from \"+Month+\" last year; the comparable figure for the Chicago PMSA was $\" + str(Comma(TP1[\"Price_CH_price\"][3]))+\", changing by \"+ str(TP1[\"Price_AGrowthCH\"][3].round(1)) +\"% from \" + Month+ \" last year.\"\n",
    "        paragraph = S1+S2+S3+S4\n",
    "        return paragraph\n",
    "\n",
    "    def P2(self):\n",
    "        \n",
    "        S1=\"In \"+Month+\", for the Chicago PMSA, the percentage of foreclosed sales (e.g. REOs) among the total sales was \"+str(100*TP2[\"fratio\"][3].round(3))+\"%. \"\n",
    "        S2=str(Comma(np.around(TP2[\"Regular_Sale\"][3],-2)))+\" regular sales were made, \"+ str(TP2[\"RS_AGrowth\"][3].round(1)) +\"% \"+Adj(TP2[\"RS_AGrowth\"][3],3)+\" than last year. \"\n",
    "        S3=str(Comma(TP2[\"ForeCProp\"][3]))+\" foreclosed properties were sold, \"+str(TP2[\"FCP_AGrowth\"][3].round(1))+\"% \"+Adj(TP2[\"FCP_AGrowth\"][3],3)+\" than last year.\"\n",
    "        S4=\"The median price was $\"+str(Comma(TP2[\"MedianPrice\"][3]))+\" for regular property sales, \"+Adj(TP2[\"MP_AGrowth\"][3],1)+\" \"+str(TP2[\"MP_AGrowth\"][3].round(3))+\"% from last year; the comparable figure for the foreclosed properties was $\"+str(Comma(TP2[\"MedianPrice_FC\"][3]))+\", \"+Adj(TP2[\"MPFC_AGrowth\"][3],2)+\" \"+str(TP2[\"MPFC_AGrowth\"][3].round(1))+\"% from last year. \"\n",
    "        S5=\"(Reference: Ratio of Foreclosed Sales over Total Sales, Sales & Median Prices: Foreclosed vs. Regular Sales figures)\"\n",
    "        paragraph = S1+S2+S3+S4+S5\n",
    "        return paragraph\n",
    "\n",
    "    def P3(self):\n",
    "        S1=\"In \"+Month+\", at the latest average annual pending sales rate, Illinois had enough housing inventory for \"+str(HI_IL)+\" months ([Relative to last year]).  \"\n",
    "        S2=\"In the Chicago PMSA, the comparable figure was \"+str(HI_CH)+\" months ([Relative to last year]). \"\n",
    "        S3=\"Months of supply for homes in the lowest price ranges (<100K) experienced [] in Illinois. \"\n",
    "        S4=\"Months of supply for homes in the lowest price ranges (<100K) experienced [] in the Chicago PMSA. \"\n",
    "        S5=\"(Reference: Illinois and Chicago PMSA Annual Months’ Supply by Price Range figures) \"\n",
    "        paragraph = S1+S2+S3+S4+S5\n",
    "        return paragraph\n",
    "        \n",
    "    def P4(self):\n",
    "        S1=\"In \"+Month+\", the market shares of homes in the [] experienced the largest change compared to a year ago for Illinois.\"\n",
    "        S2=\"In \"+Month+\", the market shares of homes in the [] experienced the largest change compared to a year ago for the Chicago PMSA. \"\n",
    "        S3=\"In Illinois, the market share for homes at $100-200K decreased to \"+str(EHIL)+\"% from \"+str(EHIL_Pre)+\"% a year ago. \"\n",
    "        S4=\"In the Chicago PMSA, the market share for homes at $100-200K decreased to \"+str(EHCH)+\"% from \"+str(EHCH_Pre)+\"% a year ago. \"\n",
    "        S5=\"(Reference: Illinois and Chicago PMSA Price Stratification figures)  \"\n",
    "        paragraph = S1+S2+S3+S4+S5\n",
    "        return paragraph"
   ]
  },
  {
   "cell_type": "code",
   "execution_count": 3,
   "id": "b940d164-07f0-4345-9bbf-9031a0d15265",
   "metadata": {},
   "outputs": [],
   "source": [
    "import os\n",
    "import pandas as pd\n",
    "\n",
    "PreMonth=\"April\"\n",
    "Month=\"May\"\n",
    "PostMonth=\"July\"\n",
    "PPstMonth=\"August\"\n",
    "PPPtMonth=\"September\"\n",
    "Year=\"2023\"\n",
    "PreYear=\"2023\"\n",
    "\n",
    "HI_IL=[]\n",
    "HI_CH=[]\n",
    "EHIL=[]\n",
    "EHIL_Pre=[]\n",
    "EHCH=[]\n",
    "EHCH_Pre=[]\n",
    "\n",
    "os.chdir(r'C:\\\\Users\\\\Keitaro Ninomiya\\\\Box\\\\IAR_nino\\\\Results\\Talking_Points\\\\Current_Condition')\n",
    "TP1=pd.read_csv(Month+Year+\"TP1.csv\")\n",
    "TP2=pd.read_csv(Month+Year+\"TP2.csv\")\n",
    "\n",
    "Paragraphs=HousingMarketCurrent(Month, Year, TP1,TP2)\n",
    "P1=Paragraphs.P1()\n",
    "P2=Paragraphs.P2()\n",
    "P3=Paragraphs.P3()\n",
    "P4=Paragraphs.P4()\n",
    "Draft=((Paragraphs.P1(),Paragraphs.P2(),Paragraphs.P3(),Paragraphs.P4()))\n"
   ]
  },
  {
   "cell_type": "code",
   "execution_count": 4,
   "id": "52188d82-ad0d-496a-9654-3b47c165d23b",
   "metadata": {},
   "outputs": [],
   "source": [
    "os.chdir(r'C:\\\\Users\\\\Keitaro Ninomiya\\\\Box\\\\IAR_nino\\\\Report')\n",
    "textfile = open(\"Current_Condition\"+Month+Year+\".txt\", \"w\")\n",
    "for element in Draft:\n",
    "    textfile.write(element + \"\\n\")\n",
    "textfile.close()"
   ]
  },
  {
   "cell_type": "code",
   "execution_count": 5,
   "id": "fffa45e6-8244-4f2b-8495-249590cd7b8d",
   "metadata": {},
   "outputs": [
    {
     "data": {
      "text/plain": [
       "('In March, housesales in Illinois sales experienced a negative annual change, the median prices experienced a negative annual change. The housesales in Chicago PMSA experienced a negative annual change, the median prices experienced a unchanged annual change.11,200 houses were sold in Illinois, changing by -19.9% from a year ago and 46.7% from a month ago. In the Chicago PMSA, 7,800 houses were sold, changing by -22.2% from a year ago and 53.9% from a month ago.The median price was $259,000 in Illinois, changing by -0.4 from March last year; the comparable figure for the Chicago PMSA was $310,000, changing by 0.0% from March last year.',\n",
       " 'In March, for the Chicago PMSA, the percentage of foreclosed sales (e.g. REOs) among the total sales was 6.2%. 7,300 regular sales were made, -24.1% less than last year. 483 foreclosed properties were sold, 24.2% more than last year.The median price was $315,500 for regular property sales, positive 1.118% from last year; the comparable figure for the foreclosed properties was $235,000, down -6.7% from last year. (Reference: Ratio of Foreclosed Sales over Total Sales, Sales & Median Prices: Foreclosed vs. Regular Sales figures)',\n",
       " 'In March, at the latest average annual pending sales rate, Illinois had enough housing inventory for [] months ([Relative to last year]).  In the Chicago PMSA, the comparable figure was [] months ([Relative to last year]). Months of supply for homes in the lowest price ranges (<100K) experienced [] in Illinois. Months of supply for homes in the lowest price ranges (<100K) experienced [] in the Chicago PMSA. (Reference: Illinois and Chicago PMSA Annual Months’ Supply by Price Range figures) ',\n",
       " 'In March, the market shares of homes in the [] experienced the largest change compared to a year ago for Illinois.In March, the market shares of homes in the [] experienced the largest change compared to a year ago for the Chicago PMSA. In Illinois, the market share for homes at $100-200K decreased to []% from []% a year ago. In the Chicago PMSA, the market share for homes at $100-200K decreased to []% from []% a year ago. (Reference: Illinois and Chicago PMSA Price Stratification figures)  ')"
      ]
     },
     "execution_count": 5,
     "metadata": {},
     "output_type": "execute_result"
    }
   ],
   "source": [
    "Draft"
   ]
  }
 ],
 "metadata": {
  "kernelspec": {
   "display_name": "Python 3 (ipykernel)",
   "language": "python",
   "name": "python3"
  },
  "language_info": {
   "codemirror_mode": {
    "name": "ipython",
    "version": 3
   },
   "file_extension": ".py",
   "mimetype": "text/x-python",
   "name": "python",
   "nbconvert_exporter": "python",
   "pygments_lexer": "ipython3",
   "version": "3.9.13"
  }
 },
 "nbformat": 4,
 "nbformat_minor": 5
}
