{
 "cells": [
  {
   "cell_type": "code",
   "execution_count": 1,
   "metadata": {},
   "outputs": [],
   "source": [
    "def create_economic_summary(cbi_date, cbi_value, cbi_comment, michigan_date, michigan_value, michigan_comment):\n",
    "    return f\"• In {cbi_date}, the Conference Board Consumer Confidence Index was at {cbi_value}, with {cbi_comment}. Meanwhile, in {michigan_date}, the University of Michigan Consumer Sentiment Index stood at {michigan_value}. The survey indicated {michigan_comment}\"\n",
    "\n",
    "# Example usage with provided data\n",
    "economic_summary = create_economic_summary(\n",
    "    \"March 2024\", \"151.0 (1985=100), down from a revised 147.6 in February\",\n",
    "    \"Consumers’ assessment of the present situation improved in March, but they also became more pessimistic about the future,” said Dana Peterson, Chief Economist at The Conference Board.\",\n",
    "    \"March 2024\", \"79.4, up from 76.9\",\n",
    "    \"Consumer sentiment recorded an incremental increase of less than three index points from February, well within the margin of error and stable since January. Critically, consumers exhibited confidence that inflation will continue to soften.\"\n",
    ")\n",
    "def save_to_file(content, file_path):\n",
    "    with open(file_path, 'w') as file:\n",
    "        file.write(content)\n",
    "# Path to save the file\n",
    "file_path = 'C:/Users/Keitaro Ninomiya/Box/IAR_nino/Report/Longer_term_Outlook.txt'\n",
    "\n",
    "# Save the summary to the file\n",
    "save_to_file(economic_summary, file_path)"
   ]
  }
 ],
 "metadata": {
  "kernelspec": {
   "display_name": "Python 3",
   "language": "python",
   "name": "python3"
  },
  "language_info": {
   "codemirror_mode": {
    "name": "ipython",
    "version": 3
   },
   "file_extension": ".py",
   "mimetype": "text/x-python",
   "name": "python",
   "nbconvert_exporter": "python",
   "pygments_lexer": "ipython3",
   "version": "3.11.9"
  }
 },
 "nbformat": 4,
 "nbformat_minor": 2
}
