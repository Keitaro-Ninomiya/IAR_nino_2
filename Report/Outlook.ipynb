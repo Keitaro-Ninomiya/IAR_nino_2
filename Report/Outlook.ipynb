{
 "cells": [
  {
   "cell_type": "code",
   "execution_count": 3,
   "metadata": {},
   "outputs": [],
   "source": [
    "def create_economic_summary(cbi_date, cbi_value, cbi_comment, michigan_date, michigan_value, michigan_comment):\n",
    "    return f\"• In {cbi_date}, the Conference Board Consumer Confidence Index was at {cbi_value}, with {cbi_comment}. Meanwhile, in {michigan_date}, the University of Michigan Consumer Sentiment Index stood at {michigan_value}. The survey indicated {michigan_comment}\"\n",
    "\n",
    "# Example usage with provided data\n",
    "economic_summary = create_economic_summary(\n",
    "    \"December 2023\", \"110.7 (1985=100), up from a downwardly revised 101.0 in November\",\n",
    "    \"December’s increase in consumer confidence reflected more positive ratings of current business conditions and job availability, as well as less pessimistic views of business, labor market, and personal income prospects over the next six months,” said Dana Peterson, Chief Economist at The Conference Board.\",\n",
    "    \"December 2023\", \"69.7, up from 61.3\",\n",
    "    \"Consumer sentiment confirmed its mid-month reading and soared 14% in December, reversing all declines from the previous four months. These trends are rooted in substantial improvements in how consumers view the trajectory of inflation. All five index components rose this month, which has only occurred in 10% of readings since 1978. Expected business conditions surged over 25% for both the short and long run. All age, income, education, geographic, and political identification groups saw gains in sentiment this month. The index is now just shy of the midpoint between the pre-pandemic reading and the historic low reached in June 2022.\"\n",
    ")\n",
    "def save_to_file(content, file_path):\n",
    "    with open(file_path, 'w') as file:\n",
    "        file.write(content)\n",
    "# Path to save the file\n",
    "file_path = 'C:/Users/Keitaro Ninomiya/Box/IAR_nino/Report/Longer_term_Outlook.txt'\n",
    "\n",
    "# Save the summary to the file\n",
    "save_to_file(economic_summary, file_path)"
   ]
  }
 ],
 "metadata": {
  "kernelspec": {
   "display_name": "Python 3",
   "language": "python",
   "name": "python3"
  },
  "language_info": {
   "codemirror_mode": {
    "name": "ipython",
    "version": 3
   },
   "file_extension": ".py",
   "mimetype": "text/x-python",
   "name": "python",
   "nbconvert_exporter": "python",
   "pygments_lexer": "ipython3",
   "version": "3.11.7"
  }
 },
 "nbformat": 4,
 "nbformat_minor": 2
}
