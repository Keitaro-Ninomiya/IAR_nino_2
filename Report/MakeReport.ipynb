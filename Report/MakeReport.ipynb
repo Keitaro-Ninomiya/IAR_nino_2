{
 "cells": [
  {
   "cell_type": "code",
   "execution_count": 1,
   "metadata": {},
   "outputs": [],
   "source": [
    "from datetime import datetime, timedelta\n",
    "\n",
    "# Get the current month name\n",
    "current_month_name = datetime.now().strftime(\"%B\")\n",
    "\n",
    "# Get the current date\n",
    "current_date = datetime.now()\n",
    "# Calculate the first day of the current month\n",
    "first_day_of_current_month = current_date.replace(day=1)\n",
    "# Subtract one day from the first day of the current month to get a day in the previous month\n",
    "day_in_previous_month = first_day_of_current_month - timedelta(days=1)\n",
    "# Get the number of the previous month\n",
    "previous_month_number = day_in_previous_month.month\n",
    "# Get the name of the previous month\n",
    "previous_month_name = day_in_previous_month.strftime(\"%B\")\n",
    "# Get the year of the previous month\n",
    "previous_month_year = day_in_previous_month.year\n",
    "\n",
    "# Calculate the first day of the previous month\n",
    "first_day_of_previous_month = day_in_previous_month.replace(day=1)\n",
    "# Subtract one day from the first day of the previous month to get a day in the month before the previous month\n",
    "day_in_month_before_previous = first_day_of_previous_month - timedelta(days=1)\n",
    "# Get the number of the month before the previous month\n",
    "month_before_previous_number = day_in_month_before_previous.month\n",
    "# Get the year of the month before the previous month\n",
    "month_before_previous_year = day_in_month_before_previous.year\n",
    "# Get the name of the month before the previous month\n",
    "month_before_previous_name = day_in_month_before_previous.strftime(\"%B\")\n"
   ]
  },
  {
   "cell_type": "code",
   "execution_count": 2,
   "metadata": {},
   "outputs": [
    {
     "data": {
      "text/plain": [
       "'April'"
      ]
     },
     "execution_count": 2,
     "metadata": {},
     "output_type": "execute_result"
    }
   ],
   "source": [
    "current_month_name"
   ]
  },
  {
   "cell_type": "code",
   "execution_count": 3,
   "metadata": {},
   "outputs": [
    {
     "name": "stderr",
     "output_type": "stream",
     "text": [
      "C:\\Users\\Keitaro Ninomiya\\AppData\\Local\\Packages\\PythonSoftwareFoundation.Python.3.11_qbz5n2kfra8p0\\LocalCache\\local-packages\\Python311\\site-packages\\docx\\styles\\styles.py:130: UserWarning: style lookup by style_id is deprecated. Use style name as key instead.\n",
      "  return self._get_style_id_from_style(self[style_name], style_type)\n"
     ]
    }
   ],
   "source": [
    "from docx import Document\n",
    "from docx.shared import Inches\n",
    "import os\n",
    "from datetime import datetime, timedelta\n",
    "\n",
    "# Function to list image files in a folder\n",
    "def list_image_files(folder_path):\n",
    "    # Supported image file extensions\n",
    "    image_extensions = ['.jpg', '.jpeg', '.png', '.gif', '.bmp', '.tiff', '.tif']\n",
    "\n",
    "    # List all files in the folder\n",
    "    all_files = os.listdir(folder_path)\n",
    "\n",
    "    # Filter out files that are images\n",
    "    image_files = [file for file in all_files if os.path.splitext(file)[1].lower() in image_extensions]\n",
    "\n",
    "    return image_files\n",
    "\n",
    "# Function to add a section to the document with its title and text from a file\n",
    "def add_section(doc, title, file_path, bullet_points=False):\n",
    "    # Add section title\n",
    "    doc.add_paragraph(title, style='Heading1')\n",
    "    \n",
    "    # Add text from the file, line by line\n",
    "    with open(file_path, 'r') as file:\n",
    "        for line in file:\n",
    "            # Add a bullet point if required\n",
    "            if bullet_points:\n",
    "                paragraph = doc.add_paragraph()\n",
    "                paragraph.add_run('• ')  # Adding an indent dot\n",
    "                paragraph.add_run(line.strip())\n",
    "            else:\n",
    "                doc.add_paragraph(line.strip())  # Add the line as a paragraph\n",
    "            doc.add_paragraph()  # Add an empty paragraph as a spacer\n",
    "\n",
    "# Get the current date and calculate the previous month's date\n",
    "current_date = datetime.now()\n",
    "first_day_of_current_month = current_date.replace(day=1)\n",
    "day_in_previous_month = first_day_of_current_month - timedelta(days=1)\n",
    "previous_month_name = day_in_previous_month.strftime(\"%B\")\n",
    "previous_month_year = day_in_previous_month.year\n",
    "\n",
    "# Create a new Word document\n",
    "doc = Document()\n",
    "\n",
    "# Define the sections and their corresponding file names\n",
    "section_files = {\n",
    "    f\"The Housing Market\": (f\"Housing_Market{previous_month_name}{previous_month_year}.txt\", False),\n",
    "    f\"The Housing Market : Current Condition\": (f\"Current_Condition{previous_month_name}{previous_month_year}.txt\", True),\n",
    "    f\"The Housing Market : Forecast and Future Condition\": (f\"Future_Condition{previous_month_name}{previous_month_year}.txt\", True),\n",
    "    \"The Economy\": (\"Economy.txt\", False),\n",
    "    \"Longer-term Outlook\": (\"Longer_term_Outlook.txt\", False)\n",
    "}\n",
    "\n",
    "# Images folder path\n",
    "text_files_folder = 'C:/Users/Keitaro Ninomiya/Box/IAR_nino/Report/'\n",
    "\n",
    "# Add each section to the document\n",
    "for title, (file_name, bullet_points) in section_files.items():\n",
    "    file_path = os.path.join(text_files_folder, file_name)\n",
    "    add_section(doc, title, file_path, bullet_points)\n",
    "\n",
    "# Images folder path\n",
    "images_folder = 'C:/Users/Keitaro Ninomiya/Box/IAR_nino/Working Folder/monthlygraph/'\n",
    "\n",
    "# Add images to the document\n",
    "image_files = list_image_files(images_folder)\n",
    "for image_name in image_files:\n",
    "    image_path = os.path.join(images_folder, image_name)\n",
    "    doc.add_picture(image_path, width=Inches(6))  # Adjust the width as needed\n",
    "\n",
    "# Save the new Word document\n",
    "modified_doc_path = f'C:/Users/Keitaro Ninomiya/Box/IAR_nino/jc{previous_month_year}{previous_month_number}/Forecasts_{current_month_name}_2023.docx'\n",
    "doc.save(modified_doc_path)  # Update with desired file path\n"
   ]
  }
 ],
 "metadata": {
  "kernelspec": {
   "display_name": "Python 3",
   "language": "python",
   "name": "python3"
  },
  "language_info": {
   "codemirror_mode": {
    "name": "ipython",
    "version": 3
   },
   "file_extension": ".py",
   "mimetype": "text/x-python",
   "name": "python",
   "nbconvert_exporter": "python",
   "pygments_lexer": "ipython3",
   "version": "3.11.9"
  }
 },
 "nbformat": 4,
 "nbformat_minor": 2
}
