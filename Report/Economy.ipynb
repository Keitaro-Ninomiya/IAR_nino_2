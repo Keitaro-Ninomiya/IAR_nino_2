{
 "cells": [
  {
   "cell_type": "markdown",
   "metadata": {},
   "source": [
    "Generate Economy part for housing report"
   ]
  },
  {
   "cell_type": "code",
   "execution_count": 4,
   "metadata": {},
   "outputs": [],
   "source": [
    "def update_report(date, unemployment_rate, payroll_jobs_gain, sector_gains):\n",
    "    # Base part of the report\n",
    "    report = f\"In {date}, according to the Bureau of Labor Statistics (BLS) Employment Situation Report, the national unemployment rate was decreased to {unemployment_rate}%, and non-farm payroll jobs experienced a gain of {payroll_jobs_gain} jobs.\"\n",
    "\n",
    "    # Adding sector job gains\n",
    "    if sector_gains:\n",
    "        gains_report = \" Notable job gains occurred over the month in \"\n",
    "        gains_report += \"; \".join([f\"{sector} (+{gain})\" for sector, gain in sector_gains.items()])\n",
    "        report += gains_report + \".\"\n",
    "\n",
    "    return report\n",
    "def create_illinois_employment_report(date, unemployment_change, unemployment_rate, payroll_jobs_change, sector_changes):\n",
    "    # Base part of the report\n",
    "    report = f\"In {date}, according to the Illinois Department of Employment Security (IDES) news release, the Illinois unemployment rate {unemployment_change} percentage point to {unemployment_rate}%. Non-farm payroll jobs {payroll_jobs_change}.\"\n",
    "\n",
    "    # Adding sector job changes\n",
    "    if sector_changes:\n",
    "        changes_report = \" The industry sectors that reported the largest over-the-month gains in employment were: \"\n",
    "        changes_report += \", \".join([f\"{sector} ({change})\" for sector, change in sector_changes.items()])\n",
    "        report += changes_report + \".\"\n",
    "\n",
    "    return report\n",
    "\n"
   ]
  },
  {
   "cell_type": "code",
   "execution_count": 2,
   "metadata": {},
   "outputs": [
    {
     "name": "stdout",
     "output_type": "stream",
     "text": [
      "• In November 2023, according to the Illinois Department of Employment Security (IDES) news release, the Illinois unemployment rate increased by 0.1 percentage point to 4.7%%. Non-farm payroll jobs increased by 68,000. The industry sectors that reported the largest over-the-month gains in employment were: Manufacturing  (5,400), Educational and Health Services (3,800), Other Services (1,900).\n"
     ]
    }
   ],
   "source": [
    "# Example usage\n",
    "new_report = update_report(\n",
    "    \"December 2023\", \n",
    "    \"3.7\", \n",
    "    \"216,000\", \n",
    "    {\"Government\": \"52,000\", \"Health care\": \"38,000\", \"Social Assistance\": \"21,000\", \"Construction\": \"17,000\"}\n",
    ")\n",
    "print(new_report)\n",
    "\n",
    "# Example usage\n",
    "illinois_report = create_illinois_employment_report(\n",
    "    \"November 2023\", \n",
    "    \"increased by 0.1\", \n",
    "    \"4.7%\", \n",
    "    \"increased by 68,000\", \n",
    "    {\"Manufacturing \": \"5,400\", \"Educational and Health Services\": \"3,800\", \"Other Services\":\"1,900\"}\n",
    ")\n",
    "print(illinois_report)\n"
   ]
  },
  {
   "cell_type": "code",
   "execution_count": 5,
   "metadata": {},
   "outputs": [],
   "source": [
    "def aggregate_reports(report1, report2, file_to_read, file_to_write):\n",
    "    # Read the content from the existing text file\n",
    "    with open(file_to_read, 'r') as file:\n",
    "        file_content = file.read()\n",
    "\n",
    "    # Aggregate the reports and the content from the file\n",
    "    aggregated_content = f\"{report1}\\n{report2}\\n{file_content}\"\n",
    "\n",
    "    # Write the aggregated content to the new file\n",
    "    with open(file_to_write, 'w') as file:\n",
    "        file.write(aggregated_content)\n",
    "\n",
    "\n",
    "# File paths\n",
    "file_to_read = 'C:/Users/Keitaro Ninomiya/Box/RA/Reports_Mod/Reports/IER_December2023.txt'\n",
    "file_to_write = 'C:/Users/Keitaro Ninomiya/Box/IAR_nino/Report/Economy.txt'\n",
    "\n",
    "# Call the function\n",
    "aggregate_reports(new_report, illinois_report, file_to_read, file_to_write)\n"
   ]
  }
 ],
 "metadata": {
  "kernelspec": {
   "display_name": "Python 3",
   "language": "python",
   "name": "python3"
  },
  "language_info": {
   "codemirror_mode": {
    "name": "ipython",
    "version": 3
   },
   "file_extension": ".py",
   "mimetype": "text/x-python",
   "name": "python",
   "nbconvert_exporter": "python",
   "pygments_lexer": "ipython3",
   "version": "3.11.7"
  }
 },
 "nbformat": 4,
 "nbformat_minor": 2
}
