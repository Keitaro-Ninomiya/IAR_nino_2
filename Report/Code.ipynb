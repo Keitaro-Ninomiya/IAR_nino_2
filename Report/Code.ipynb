{
 "cells": [
  {
   "cell_type": "code",
   "execution_count": 1,
   "id": "8b89d962-aaef-4c8b-b2a5-f79ccf908112",
   "metadata": {},
   "outputs": [],
   "source": [
    "#Test\n",
    "import os\n",
    "import pandas as pd\n",
    "\n",
    "PreMonth=\"February\"\n",
    "Month=\"March\"\n",
    "Year=\"2024\"\n",
    "PreYear=\"2024\""
   ]
  },
  {
   "cell_type": "markdown",
   "id": "04585db1-dc17-4cf6-b98a-4b46ccf6dbb0",
   "metadata": {},
   "source": [
    "# 1. Summary of Housing Market"
   ]
  },
  {
   "cell_type": "code",
   "execution_count": 2,
   "id": "b4ccd5bb-5720-4d46-9281-941be37d94d5",
   "metadata": {},
   "outputs": [
    {
     "data": {
      "text/plain": [
       "['In March, housesales in Illinois sales experienced a positive annual change, the median prices experienced a positive annual change. The housesales in Chicago PMSA experienced a positive annual change, the median prices experienced a positive annual change.10,000 houses were sold in Illinois, changing by -12.4% from a year ago and 30.0% from a month ago. In the Chicago PMSA, 5,800 houses were sold, changing by -26.1% from a year ago and 14.1% from a month ago.The median price was $282,895 in Illinois, changing by 9.9 from March last year; the comparable figure for the Chicago PMSA was $335,000, changing by 8.1% from March last year.',\n",
       " 'In March, for the Chicago PMSA, the percentage of foreclosed sales (e.g. REOs) among the total sales was 6.2%. 5,400 regular sales were made, -26.3% less than last year. 358 foreclosed properties were sold, -25.1% less than last year.The median price was $343,000 for regular property sales, positive 8.544% from last year; the comparable figure for the foreclosed properties was $247,295, more 6.8% from last year. ',\n",
       " 'The sales forecast for April, May, and June suggests a increase on a yearly basis for both Illinois.The sales forecast for April, May, and June suggests a increase on a monthly basis for both Illinois.The sales forecast for April, May, and June suggests a decrease on a yearly basis for both Illinois.The sales forecast for April, May, and June suggests a increase on a monthly basis for both Illinois.Annually for Illinois, the three-month average forecasts point to a increase in the range of 1.5 to 2.1%; the comparative figures for the Chicago PMSA are a decrease in the range of -6.5% to -8.7%. On a monthly basis, the three-month average sales are forecast to increase in the range of 12.3% to 16.6% for Illinois and increase in the range of 16.0% to 21.6% for the Chicago PMSA.',\n",
       " 'The pending home sales index  is a leading indicator based on contract signings.This March, the number of homes put under contract was less than last year in Illinois and Chicago PMSA. The pending home sales index is 96.4 (2019=100) in Illinois, down -0.8% from a year ago. In the Chicago PMSA, the comparable figure is 82.0 down -16.2% from a year ago. At the latest average annual pending sales rate, Illinois had enough housing inventory for 2.0 months (remaining the same as last year) . In the Chicago PMSA, the comparable figure was 2.0 months (remaining the same as last year). The lowest price ranges (<$100K) showed the largest decline both in Illinois, and in the Chicago PMSA.',\n",
       " 'The median price forecast indicates positive annual growth for April, May, and June in Illinois.The median price forecast indicates positive annual growth for April, May, and June in the Chicago PMSA. In Illinois, the median price is forecast to change by 9.0% in April, 8.2% in May, and 6.4% in June. For the Chicago PMSA, the comparable figures are 8.5% in April, 6.5% in May, and 4.2% in June. As a complement to the median housing price index (HPI), the SHDRE HPI forecasts a positive growth trend for both Illinois and the Chicago PMSA.  In Illinois, the SHDRE HPI (Jan 2008=1) is forecast to change by 5.8999999999999995% in April, 7.199999999999999% in May, and 6.6000000000000005% in June. The comparable figures for the Chicago PMSA are 8.4% in April, 9.1% in May, and 6.6000000000000005% in June. SHDRE HPI takes housing characteristics into account and constructs comparable “baskets” of homes for each month.',\n",
       " 'In March, the Conference Board Consumer Confidence Index [https://www.conference-board.org/topics/consumer-confidence], whereas the University of Michigan Consumer Sentiment Index [http://www.sca.isr.umich.edu/]. The Conference Board Consumer Confidence Index survey noted that [https://www.conference-board.org/topics/consumer-confidence] The University of Michigan Consumer Sentiment Index survey noted that [http://www.sca.isr.umich.edu/].']"
      ]
     },
     "metadata": {},
     "output_type": "display_data"
    }
   ],
   "source": [
    "from Housing_Market import Housing_Market\n",
    "os.chdir(r'C:\\\\Users\\\\Keitaro Ninomiya\\\\Box\\\\IAR_nino\\\\Results\\Talking_Points\\\\Housing_Market')\n",
    "TP1=pd.read_csv(Month+Year+\"TP1.csv\")\n",
    "TP2=pd.read_csv(Month+Year+\"TP2.csv\")\n",
    "TP3=pd.read_csv(Month+Year+\"TP3.csv\")\n",
    "TP4=pd.read_csv(Month+Year+\"TP4.csv\")\n",
    "TP5=pd.read_csv(Month+Year+\"TP5.csv\")\n",
    "\n",
    "Paragraphs=Housing_Market.HousingMarket(Month, Year, TP1,TP2,TP3,TP4,TP5)\n",
    "P1=Paragraphs.P1()\n",
    "P2=Paragraphs.P2()\n",
    "P3=Paragraphs.P3()\n",
    "P4=Paragraphs.P4()\n",
    "P5=Paragraphs.P5()\n",
    "P6=Paragraphs.P6()\n",
    "Draft=list([P1,P2,P3,P4,P5,P6])\n",
    "display(Draft)"
   ]
  },
  {
   "cell_type": "code",
   "execution_count": 3,
   "id": "fbc51b1e-ff44-4f9d-90a0-19e36c3c2519",
   "metadata": {},
   "outputs": [],
   "source": [
    "os.chdir(r'C:\\\\Users\\\\Keitaro Ninomiya\\\\Box\\\\IAR_nino\\\\Report')\n",
    "textfile = open(\"Housing_Market\"+Month+Year+\".txt\", \"w\")\n",
    "for element in Draft:\n",
    "    textfile.write(element + \"\\n\")\n",
    "textfile.close()"
   ]
  },
  {
   "cell_type": "markdown",
   "id": "324d9503-a4f3-41e1-92d7-a17ccdc3d138",
   "metadata": {},
   "source": [
    "# 2. Current Housing Market"
   ]
  },
  {
   "cell_type": "code",
   "execution_count": 4,
   "id": "e8c3b3d1-0c65-4a74-821e-30fa30e8145c",
   "metadata": {},
   "outputs": [
    {
     "data": {
      "text/plain": [
       "('In March, housesales in Illinois sales experienced a negative annual change, the median prices experienced a positive annual change. The housesales in Chicago PMSA experienced a negative annual change, the median prices experienced a positive annual change.10,000 houses were sold in Illinois, changing by -12.4% from a year ago and 30.0% from a month ago. In the Chicago PMSA, 5,800 houses were sold, changing by -26.1% from a year ago and 14.1% from a month ago.The median price was $282,895 in Illinois, changing by 9.9 from March last year; the comparable figure for the Chicago PMSA was $335,000, changing by 8.1% from March last year.',\n",
       " 'In March, for the Chicago PMSA, the percentage of foreclosed sales (e.g. REOs) among the total sales was 6.2%. 5,400 regular sales were made, -26.3% less than last year. 358 foreclosed properties were sold, -25.1% less than last year.The median price was $343,000 for regular property sales, positive 8.544% from last year; the comparable figure for the foreclosed properties was $247,295, up 6.8% from last year. (Reference: Ratio of Foreclosed Sales over Total Sales, Sales & Median Prices: Foreclosed vs. Regular Sales figures)',\n",
       " 'In March, at the latest average annual pending sales rate, Illinois had enough housing inventory for [] months ([Relative to last year]).  In the Chicago PMSA, the comparable figure was [] months ([Relative to last year]). Months of supply for homes in the lowest price ranges (<100K) experienced [] in Illinois. Months of supply for homes in the lowest price ranges (<100K) experienced [] in the Chicago PMSA. (Reference: Illinois and Chicago PMSA Annual Months’ Supply by Price Range figures) ',\n",
       " 'In March, the market shares of homes in the [] experienced the largest change compared to a year ago for Illinois.In March, the market shares of homes in the [] experienced the largest change compared to a year ago for the Chicago PMSA. In Illinois, the market share for homes at $100-200K decreased to []% from []% a year ago. In the Chicago PMSA, the market share for homes at $100-200K decreased to []% from []% a year ago. (Reference: Illinois and Chicago PMSA Price Stratification figures)  ')"
      ]
     },
     "metadata": {},
     "output_type": "display_data"
    }
   ],
   "source": [
    "from Current_Condition import Current_Condition\n",
    "os.chdir(r'C:\\\\Users\\\\Keitaro Ninomiya\\\\Box\\\\IAR_nino\\\\Results\\Talking_Points\\\\Current_Condition')\n",
    "TP1=pd.read_csv(Month+Year+\"TP1.csv\")\n",
    "TP2=pd.read_csv(Month+Year+\"TP2.csv\")\n",
    "\n",
    "Paragraphs=Current_Condition.HousingMarketCurrent(Month, Year, TP1,TP2)\n",
    "P1=Paragraphs.P1()\n",
    "P2=Paragraphs.P2()\n",
    "P3=Paragraphs.P3()\n",
    "P4=Paragraphs.P4()\n",
    "Draft=((Paragraphs.P1(),Paragraphs.P2(),Paragraphs.P3(),Paragraphs.P4()))\n",
    "display(Draft)"
   ]
  },
  {
   "cell_type": "code",
   "execution_count": 5,
   "id": "b3a8a225-b65a-4706-9245-66dec13b7ef6",
   "metadata": {},
   "outputs": [],
   "source": [
    "os.chdir(r'C:\\\\Users\\\\Keitaro Ninomiya\\\\Box\\\\IAR_nino\\\\Report')\n",
    "textfile = open(\"Current_Condition\"+Month+Year+\".txt\", \"w\")\n",
    "for element in Draft:\n",
    "    textfile.write(element + \"\\n\")\n",
    "textfile.close()"
   ]
  },
  {
   "cell_type": "markdown",
   "id": "315ad98d-9e7f-4cd2-b8b3-b7dbc93e16ae",
   "metadata": {},
   "source": [
    "# 3. Future Housing Market "
   ]
  },
  {
   "cell_type": "code",
   "execution_count": 6,
   "id": "6cb11283-1857-400d-a6b0-ff14c4b8644e",
   "metadata": {
    "tags": []
   },
   "outputs": [
    {
     "data": {
      "text/plain": [
       "['The median price forecast indicates positive annual growth for April, May, and June in Illinois.The median price forecast indicates positive annual growth for April, May, and June in the Chicago PMSA. In Illinois, the median price is forecast to change by 8.5% in April, 8.2% in May, and 6.4% in June. For the Chicago PMSA, the comparable figures are 8.5% in April, 6.5% in May, and 4.2% in June. (Reference: Forecast for March 2024 report table) ',\n",
       " 'As a complement to the median housing price index (HPI), the SHDRE HPI forecasts a increase growth trend for Illinois.As a complement to the median housing price index (HPI), the SHDRE HPI forecasts a increase growth trend for the Chicago PMSAIn Illinois, the SHDRE HPI (Jan 2008=1) is forecast to change by 6.0% in April, 7.000000000000001% in May, and 7.000000000000001% in June. The comparable figures for the Chicago PMSA are 8.0% in April, 9.0% in May, and 7.000000000000001% in June. SHDRE HPI takes housing characteristics into account and constructs comparable “baskets” of homes for each month.',\n",
       " 'The sales forecast for April, May, and June suggests a increase on a yearly basis for Illinois. The sales forecast for April, May, and June suggests a increase on a monthly basis for Illinois. The sales forecast for April, May, and June suggests a decrease on a yearly  basis for the Chicago PMSA. The sales forecast for April, May, and June suggests a increase on a monthly basis for the Chicago PMSA. Annually for Illinois, the three-month average forecasts point to a increase in the range of 2.0 to 2.0%; the comparative figures for the Chicago PMSA are a decrease in the range of -6.0% to 2.0%. On a monthly basis, the three-month average sales are forecast to increase in the range of 12.0% to 17.0% for Illinois and increase in the range of 16.0% to 22.0% for the Chicago PMSA.(Reference: Forecast for March 2024 report table)',\n",
       " 'The pending home sales index  is a leading indicator based on contract signings.This March, the number of homes put under contract was less than last year in Illinois and Chicago PMSA. The pending home sales index is 96.39 (2019=100) in Illinois, down -76.0% from a year ago. In the Chicago PMSA, the comparable figure is 82.03 down -16.17% from a year ago. (Reference: Illinois and Chicago PMSA Pending Home Sales Index figure)']"
      ]
     },
     "metadata": {},
     "output_type": "display_data"
    }
   ],
   "source": [
    "from Future_Condition import Future_Condition\n",
    "os.chdir(r'C:\\\\Users\\\\Keitaro Ninomiya\\\\Box\\\\IAR_nino\\\\Results\\Talking_Points\\\\Future_Condition')\n",
    "TP1=pd.read_csv(Month+Year+\"TP1.csv\")\n",
    "TP2=pd.read_csv(Month+Year+\"TP2.csv\")\n",
    "TP3=pd.read_csv(Month+Year+\"TP3.csv\")\n",
    "TP4=pd.read_csv(Month+Year+\"TP4.csv\")\n",
    "#TP5=pd.read_csv(Month+Year+\"TP5.csv\")\n",
    "\n",
    "Paragraphs=Future_Condition.HousingMarketFuture(Month, Year, TP1,TP2,TP3,TP4,TP5)#\n",
    "P1=Paragraphs.P1()\n",
    "P2=Paragraphs.P2()\n",
    "P3=Paragraphs.P3()\n",
    "P4=Paragraphs.P4()\n",
    "#P5=Paragraphs.P5()\n",
    "Draft=list([P1,P2,P3,P4])\n",
    "## Paragraphs.P5() needs to be included in the arguments\n",
    "\n",
    "display(Draft)"
   ]
  },
  {
   "cell_type": "code",
   "execution_count": 7,
   "id": "0e717b58-cea2-44cf-bc41-d76d36f10601",
   "metadata": {},
   "outputs": [],
   "source": [
    "os.chdir(r'C:\\\\Users\\\\Keitaro Ninomiya\\\\Box\\\\IAR_nino\\\\Report')\n",
    "textfile = open(\"Future_Condition\"+Month+Year+\".txt\", \"w\")\n",
    "for element in Draft:\n",
    "    textfile.write(element + \"\\n\")\n",
    "textfile.close()"
   ]
  }
 ],
 "metadata": {
  "kernelspec": {
   "display_name": "Python 3 (ipykernel)",
   "language": "python",
   "name": "python3"
  },
  "language_info": {
   "codemirror_mode": {
    "name": "ipython",
    "version": 3
   },
   "file_extension": ".py",
   "mimetype": "text/x-python",
   "name": "python",
   "nbconvert_exporter": "python",
   "pygments_lexer": "ipython3",
   "version": "3.11.9"
  }
 },
 "nbformat": 4,
 "nbformat_minor": 5
}
